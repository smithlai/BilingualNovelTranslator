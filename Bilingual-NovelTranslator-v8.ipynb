{
 "cells": [
  {
   "cell_type": "markdown",
   "id": "97a66734-48c6-44f3-bd18-b3370f924820",
   "metadata": {},
   "source": [
    "# V8\n",
    "From now on we can make our own bilangual novel book,  \n",
    "and make it an audiobook with [`tts-server-android`](https://github.com/jing332/tts-server-android)  \n",
    "Azure generates much better voice than Android TTS."
   ]
  },
  {
   "cell_type": "code",
   "execution_count": 1,
   "id": "f66b8ac6-0261-4661-89e6-1d54dbf0116e",
   "metadata": {},
   "outputs": [],
   "source": [
    "!pip install -qU json_repair"
   ]
  },
  {
   "cell_type": "code",
   "execution_count": 2,
   "id": "9ffab33b-25ce-4126-9f49-526130149e7d",
   "metadata": {},
   "outputs": [],
   "source": [
    "import re\n",
    "import json\n",
    "\n",
    "\n",
    "with open(\"alice_in_wonderland.txt.v7.txt\", \"r\") as file:\n",
    "    content = file.read()\n",
    "\n",
    "pattern = re.compile(r\"```json(.*?)```\", re.DOTALL)\n",
    "matches = pattern.findall(content)\n",
    "\n",
    "merged_list = []\n",
    "\n",
    "# 解析每個區塊並將其加入到合併後的list中\n",
    "for match in matches:\n",
    "    try:\n",
    "        from json_repair import repair_json\n",
    "        json_data = repair_json(match.strip(), return_objects=True)\n",
    "        merged_list.extend(json_data)\n",
    "    except json.JSONDecodeError as e:\n",
    "        print(e)\n",
    "        print(f\"Error decoding JSON in block: {match}\")\n",
    "\n",
    "with open(\"alice_in_wonderland.txt.v8.txt\", \"w+\") as f:\n",
    "    for ele in merged_list:\n",
    "        f.write(\"\" + ele[\"zh-tw\"] + \"\\n\")\n",
    "        f.write(\"\" + ele[\"correction\"] + \"\\n\\n\")"
   ]
  },
  {
   "cell_type": "markdown",
   "id": "8c0308fb-f02f-42c2-8169-01008393fab5",
   "metadata": {},
   "source": [
    "The `alice_in_wonderland.txt.v8.txt` is our final output."
   ]
  },
  {
   "cell_type": "markdown",
   "id": "9c615f8a-40eb-4c09-914a-30aad18f47a4",
   "metadata": {},
   "source": [
    "## Audio book\n",
    "Install TTS and Reader:  \n",
    "\n",
    "1. [tts-server-android](https://github.com/jing332/tts-server-android)\n",
    "2. [Moon+Reader](https://play.google.com/store/apps/details?id=com.flyersoft.moonreader&hl=zh_TW&gl=US)\n",
    "3. [Modify and import speech rules](https://github.com/jing332/tts-server-android?tab=readme-ov-file#js)  [\\[js example\\]](tts_server_android_rules/bilangual.js)\n",
    "4. Enjoy your audio book"
   ]
  },
  {
   "cell_type": "code",
   "execution_count": null,
   "id": "e770fea8-a3c0-4485-bd9f-e1aabc63b899",
   "metadata": {},
   "outputs": [],
   "source": []
  }
 ],
 "metadata": {
  "kernelspec": {
   "display_name": "Python 3 (ipykernel)",
   "language": "python",
   "name": "python3"
  },
  "language_info": {
   "codemirror_mode": {
    "name": "ipython",
    "version": 3
   },
   "file_extension": ".py",
   "mimetype": "text/x-python",
   "name": "python",
   "nbconvert_exporter": "python",
   "pygments_lexer": "ipython3",
   "version": "3.11.6"
  }
 },
 "nbformat": 4,
 "nbformat_minor": 5
}
