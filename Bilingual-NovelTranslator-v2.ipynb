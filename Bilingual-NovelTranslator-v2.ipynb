{
 "cells": [
  {
   "cell_type": "markdown",
   "id": "ed9f7d72-a6c2-48f6-84a0-064b5e366bca",
   "metadata": {},
   "source": [
    "# V2\n",
    "I split the process into 2 steps.   \n",
    "The first one try to fix the error, such as typo, and remove reduntent newlines ('\\n').  \n",
    "And the second one focus on translation.  \n",
    "\n",
    "But the removing \"\\n\" seems not works"
   ]
  },
  {
   "cell_type": "markdown",
   "id": "5b222aec-6c75-4ba0-a691-1787effc587b",
   "metadata": {},
   "source": [
    "## Gemini Pro API and OpenAI API\n",
    "Check [Bilingual-NovelTranslator-v1.ipynb](Bilingual-NovelTranslator-v1.ipynb) for more information.\n",
    "\n",
    "**Note** : Remember to fill you api key in `.env` file"
   ]
  },
  {
   "cell_type": "code",
   "execution_count": 1,
   "id": "7c52cbbd-3d5f-4869-bd14-5a8f1c6d0219",
   "metadata": {},
   "outputs": [],
   "source": [
    "%load_ext autoreload\n",
    "%autoreload 2\n",
    "    \n",
    "import utils\n",
    "\n",
    "geminipro, openai = utils.init_llm()"
   ]
  },
  {
   "cell_type": "code",
   "execution_count": 2,
   "id": "6e4d5338-5e6f-40a5-a77c-ace4aa152e3d",
   "metadata": {},
   "outputs": [],
   "source": [
    "def split_paragraph(source_path):\n",
    "    from langchain_text_splitters import RecursiveCharacterTextSplitter\n",
    "    text_splitter = RecursiveCharacterTextSplitter(\n",
    "        chunk_size=1024,\n",
    "        chunk_overlap=0,\n",
    "        separators= [\"\\n\\n\\n\\n\",\"\\n\\n\\n\",\"\\n\\n\"]\n",
    "        # length_function=len,\n",
    "        # is_separator_regex=True,\n",
    "    )\n",
    "    content=\"\"\n",
    "    with open(source_path, 'r') as f:\n",
    "        content = f.read()\n",
    "        # aaa = content.split(\"Contents\",2)[1]\n",
    "    \n",
    "        \n",
    "    return text_splitter.split_text(content)"
   ]
  },
  {
   "cell_type": "code",
   "execution_count": 3,
   "id": "ec5f8e39-34b4-4afa-9ffb-1f41b8c30064",
   "metadata": {},
   "outputs": [],
   "source": [
    "def fix_paragraph(llm, paragraphs, target_file=None):\n",
    "    from langchain_core.prompts import ChatPromptTemplate, PromptTemplate\n",
    "    from langchain_core.output_parsers.string import StrOutputParser\n",
    "    from langchain.callbacks.tracers import ConsoleCallbackHandler\n",
    "    prompt = PromptTemplate.from_template(\n",
    "    \"\"\"\n",
    "    You are an article assistant.\n",
    "    Your task is to check and fix only misspelling and typo. and redundent linebreak in this article.\n",
    "    You should remove any linebreak in a complete sentence.\n",
    "    Do not add any other comment or change the words.\n",
    "    \n",
    "    Here's the article we are going to check:\n",
    "    \n",
    "    {input}\n",
    "    \n",
    "    \"\"\")\n",
    "    \n",
    "    \n",
    "    chain = prompt | llm | StrOutputParser()\n",
    "    \n",
    "    fixed_paragraphs = []\n",
    "    from tqdm.notebook import tqdm, trange\n",
    "    with tqdm(total=len(paragraphs)) as progress_bar:\n",
    "        for i, paragraph in enumerate(paragraphs):\n",
    "            if len(paragraph.strip()) > 0:\n",
    "                temp = \"\"\n",
    "                temp = chain.invoke({\"input\": paragraph})\n",
    "                # for chunk in chain.stream({\"input\": paragraph}):\n",
    "                #     temp += chunk\n",
    "                #     print(chunk, end=\"\", flush=True)\n",
    "                # print(\"\\n------\\n\")\n",
    "                fixed_paragraphs.append(temp)\n",
    "                if target_file:\n",
    "                    with open(target_file, 'a+') as f:\n",
    "                            f.write(temp)\n",
    "                            f.write('\\n')\n",
    "            progress_bar.update(1)\n",
    "    return fixed_paragraphs"
   ]
  },
  {
   "cell_type": "code",
   "execution_count": 4,
   "id": "4131fcc4-0716-4bd6-b7d9-04502d6230dc",
   "metadata": {},
   "outputs": [],
   "source": [
    "def translate_paragraph(llm, paragraphs, target_file=None):\n",
    "    from langchain_core.prompts import ChatPromptTemplate, PromptTemplate\n",
    "    from langchain_core.output_parsers.string import StrOutputParser\n",
    "    prompt = PromptTemplate.from_template(\n",
    "        \"\"\"You are a professional translation assistant. Your task is to translate a paragraph from english to traditional Chinese.\n",
    "      \n",
    "You should first sepatate each paragraph into several complete sentences.\n",
    "Each sentence should be prepended with a newline(\\n).\n",
    "Then you should translate each sentence into zh-tw followed by the original sentence, separated by a newline(\\n).\n",
    "Add one more newline(\\n) at end before processing next sentence.\n",
    "Make sure no original text or translations should be skipped.\n",
    "\n",
    "Example:\n",
    "---\n",
    "input:\n",
    "Before one girl and another even younger one stood a figure in full plate armor brandishing a sword.\n",
    "The blade swung, sparkling in the sunlight as if to say that taking their lives in a single stroke would be an act of mercy.\n",
    "---\n",
    "output:\n",
    "在一名少女以及比她更年輕的少女面前，站著一位身穿全身板甲、揮舞著劍的男子。\n",
    "Before one girl and another even younger one stood a figure in full plate armor brandishing a sword.\n",
    "\n",
    "刀鋒揮動，在陽光下閃爍，彷彿在說一刀奪命是仁慈的作為。\n",
    "The blade swung, sparkling in the sunlight as if to say that taking their lives in a single stroke would be an act of mercy.\n",
    "\n",
    "\n",
    "---\n",
    "\n",
    "The original paragraph is as following:\n",
    "\n",
    "{input}\n",
    "\n",
    "\"\"\")\n",
    "    \n",
    "    chain = prompt | llm | StrOutputParser()\n",
    "    translated=[]\n",
    "    from tqdm.notebook import tqdm, trange\n",
    "    with tqdm(total=len(paragraphs)) as progress_bar:\n",
    "        for i, paragraph in enumerate(paragraphs):\n",
    "            if len(paragraph.strip()) > 0:\n",
    "                temp = \"\"\n",
    "                for chunk in chain.stream({\"input\": paragraph}):\n",
    "                    print(chunk, end=\"\", flush=True)\n",
    "                    temp += chunk\n",
    "                print(\"\\n------\\n\")    \n",
    "                translated.append(temp)\n",
    "                if target_file:\n",
    "                    with open(target_file, 'a+') as f:\n",
    "                        f.write(temp)\n",
    "                        f.write('\\n')\n",
    "            progress_bar.update(1)"
   ]
  },
  {
   "cell_type": "code",
   "execution_count": 5,
   "id": "af88f697-53b8-469c-978a-797f913cf4a9",
   "metadata": {
    "scrolled": true
   },
   "outputs": [
    {
     "name": "stdout",
     "output_type": "stream",
     "text": [
      "alice_in_wonderland.txt\n"
     ]
    },
    {
     "data": {
      "application/vnd.jupyter.widget-view+json": {
       "model_id": "31e43c55e18c441fb7bc072d6f5477b4",
       "version_major": 2,
       "version_minor": 0
      },
      "text/plain": [
       "  0%|          | 0/4 [00:00<?, ?it/s]"
      ]
     },
     "metadata": {},
     "output_type": "display_data"
    },
    {
     "data": {
      "application/vnd.jupyter.widget-view+json": {
       "model_id": "05038c8f1a4648c486cb656710711474",
       "version_major": 2,
       "version_minor": 0
      },
      "text/plain": [
       "  0%|          | 0/4 [00:00<?, ?it/s]"
      ]
     },
     "metadata": {},
     "output_type": "display_data"
    },
    {
     "name": "stdout",
     "output_type": "stream",
     "text": [
      "章節一\n",
      "Down the Rabbit-Hole\n",
      "------\n",
      "\n",
      "愛麗絲開始對坐在河岸邊的姊姊感到很厭煩，而且無所事事：她曾一兩次偷看姊姊正在讀的書，但書裡沒有圖片或對話，愛麗絲心想：「一本沒有圖片或對話的書有什麼用？」\n",
      "Alice was beginning to get very tired of sitting by her sister on the bank, and of having nothing to do: once or twice she had peeped into the book her sister was reading, but it had no pictures or conversations in it, `and what is the use of a book,' thought Alice `without pictures or conversation?'\n",
      "\n",
      "\n",
      "於是她開始思考（儘管天氣炎熱讓她感到昏昏欲睡又遲鈍，但她還是盡力思考），製作雛菊花環的樂趣是否值得起身去摘雛菊，就在這時，一隻有著粉紅眼睛的白兔跑近她身邊。\n",
      "So she was considering in her own mind (as well as she could, for the hot day made her feel very sleepy and stupid), whether the pleasure of making a daisy-chain would be worth the trouble of getting up and picking the daisies, when suddenly a White Rabbit with pink eyes ran close by her.\n",
      "------\n",
      "\n",
      "兔子從背心口袋裡掏出一只懷錶，看了看，然後匆匆忙忙地跑開了。\n",
      "There was nothing so VERY remarkable in that; nor did Alice think it so VERY much out of the way to hear the Rabbit say to itself, `Oh dear!  Oh dear!  I shall be late!' (when she thought it over afterwards, it occurred to her that she ought to have wondered at this, but at the time it all seemed quite natural); but when the Rabbit actually TOOK A WATCH OUT OF ITS WAISTCOAT-POCKET, and looked at it, and then hurried on, Alice started to her feet, for it flashed across her mind that she had never before seen a rabbit with either a waistcoat-pocket, or a watch to take out of it, and burning with curiosity, she ran across the field after it, and fortunately was just in time to see it pop down a large rabbit-hole under the hedge.\n",
      "\n",
      "愛麗絲緊接著也跳了下去，完全沒想過自己要怎麼出來。\n",
      "In another moment down went Alice after it, never once considering how in the world she was to get out again.\n",
      "------\n",
      "\n"
     ]
    },
    {
     "name": "stderr",
     "output_type": "stream",
     "text": [
      "Retrying langchain_google_genai.chat_models._chat_with_retry.<locals>._chat_with_retry in 2.0 seconds as it raised InternalServerError: 500 An internal error has occurred. Please retry or report in https://developers.generativeai.google/guide/troubleshooting.\n"
     ]
    },
    {
     "name": "stdout",
     "output_type": "stream",
     "text": [
      "兔子洞直直地延伸出去，像條隧道一樣，然後突然向下傾斜，如此突然以致愛麗絲連思考要如何停止自己都沒有時間，就發現自己正在一個非常深的井裡往下墜落。\n",
      "\n",
      "The rabbit-hole went straight on like a tunnel for some way, and then dipped suddenly down, so suddenly that Alice had not a moment to think about stopping herself before she found herself falling down a very deep well.\n",
      "\n",
      "井不是非常深，就是她墜落的速度非常慢，因為她在往下墜的過程中，有充裕的時間四處觀望，並好奇接下來會發生什麼事。首先，她試著往下看，找出自己會掉到哪裡，但實在太暗了，什麼都看不見；接著她看向井壁，注意到井壁上佈滿了櫥櫃和書架；這裡那裡，她看到有地圖和圖片掛在掛鉤上。她在經過其中一個架子時，拿下來一個罐子；罐子上標示著「橘子果醬」，但讓她非常失望的是，罐子是空的：她不喜歡把罐子丟掉，害怕會砸到人，因此設法在經過時，把它放進其中一個櫥櫃裡。\n",
      "\n",
      "Either the well was very deep, or she fell very slowly, for she had plenty of time as she went down to look about her and to wonder what was going to happen next. First, she tried to look down and make out what she was coming to, but it was too dark to see anything; then she looked at the sides of the well, and noticed that they were filled with cupboards and book-shelves; here and there she saw maps and pictures hung upon pegs. She took down a jar from one of the shelves as she passed; it was labelled `ORANGE MARMALADE', but to her great disappointment it was empty: she did not like to drop the jar for fear of killing somebody, so managed to put it into one of the cupboards as she fell past it.\n",
      "------\n",
      "\n"
     ]
    }
   ],
   "source": [
    "source_filenames = [\"alice_in_wonderland.txt\"]\n",
    "for i, source_file in enumerate(source_filenames):\n",
    "    print(source_file)\n",
    "    path = source_file\n",
    "    paragraphs = split_paragraph(path)[1:5]\n",
    "    fixed_paragraphs = fix_paragraph(geminipro, paragraphs)\n",
    "    translations = translate_paragraph(geminipro, fixed_paragraphs)"
   ]
  },
  {
   "cell_type": "code",
   "execution_count": null,
   "id": "859761e2-64a5-49ab-8449-8d4881aa8e94",
   "metadata": {},
   "outputs": [],
   "source": []
  }
 ],
 "metadata": {
  "kernelspec": {
   "display_name": "Python 3 (ipykernel)",
   "language": "python",
   "name": "python3"
  },
  "language_info": {
   "codemirror_mode": {
    "name": "ipython",
    "version": 3
   },
   "file_extension": ".py",
   "mimetype": "text/x-python",
   "name": "python",
   "nbconvert_exporter": "python",
   "pygments_lexer": "ipython3",
   "version": "3.11.6"
  }
 },
 "nbformat": 4,
 "nbformat_minor": 5
}
